import speech_recognition as sr
import re
from transformers import pipeline

# ---------------------------------------------------
# Step 1: Load Grammar Correction Model (Transformer)
# ---------------------------------------------------
print("⏳ Loading grammar correction model... (this may take some time the first run)")
grammar_corrector = pipeline("text2text-generation", model="vennify/t5-base-grammar-correction", framework="pt")

# ---------------------------------------------------
# Step 2: Speech-to-Text Function
# ---------------------------------------------------
def speech_to_text():
    recognizer = sr.Recognizer()
    with sr.Microphone() as source:
        print("🎤 Speak something...")
        audio = recognizer.listen(source)

        try:
            text = recognizer.recognize_google(audio)
            print("Raw Transcription:", text)
            return text
        except sr.UnknownValueError:
            return "❌ Could not understand the audio."
        except sr.RequestError:
            return "❌ Could not reach the speech service (check internet)."

# ---------------------------------------------------
# Step 3: NLP Post-processing
# ---------------------------------------------------
def nlp_post_process(text):
    # 1. Capitalize first letter
    text = text.strip().capitalize()

    # 2. Add punctuation if missing
    if not re.search(r'[.!?]$', text):
        text += "."

    # 3. Correct grammar + spelling with transformer
    result = grammar_corrector(text, max_length=60)
    corrected_text = result[0]['generated_text']

    return corrected_text

# ---------------------------------------------------
# Step 4: Main Execution
# ---------------------------------------------------
if __name__ == "__main__":
    raw_text = speech_to_text()
    processed_text = nlp_post_process(raw_text)

    print("\n✅ Final Processed Text:", processed_text)
